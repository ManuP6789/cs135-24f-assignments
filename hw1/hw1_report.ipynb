{
 "cells": [
  {
   "cell_type": "markdown",
   "metadata": {},
   "source": [
    "# HW1 : Regression, Cross-Validation, and  Regularization"
   ]
  },
  {
   "cell_type": "code",
   "execution_count": 2,
   "metadata": {},
   "outputs": [],
   "source": [
    "import os\n",
    "import numpy as np\n",
    "import pandas as pd\n",
    " \n",
    "import sklearn.preprocessing\n",
    "import sklearn.pipeline\n",
    "import sklearn.linear_model"
   ]
  },
  {
   "cell_type": "code",
   "execution_count": 3,
   "metadata": {},
   "outputs": [],
   "source": [
    "from matplotlib import pyplot as plt\n",
    "\n",
    "import seaborn as sns\n",
    "#This sets the default style for all figures. \n",
    "sns.set('notebook', font_scale=1.25, style='whitegrid')"
   ]
  },
  {
   "cell_type": "markdown",
   "metadata": {},
   "source": [
    "### Configuration\n",
    "\n",
    "You may need to adjust your data directory to point towards the auto data. "
   ]
  },
  {
   "cell_type": "code",
   "execution_count": 4,
   "metadata": {},
   "outputs": [],
   "source": [
    "SEED = 12345 \n",
    "\n",
    "DATA_DIR = 'data_auto/'"
   ]
  },
  {
   "cell_type": "markdown",
   "metadata": {},
   "source": [
    "# Helper Functions\n",
    "\n",
    "These notebook sections contain helper functions which you **do not need to alter**.  "
   ]
  },
  {
   "cell_type": "markdown",
   "metadata": {},
   "source": [
    "### Methods for loading dataset"
   ]
  },
  {
   "cell_type": "code",
   "execution_count": 5,
   "metadata": {},
   "outputs": [],
   "source": [
    "def load_2d_arr_from_csv(fname, include_header=False):\n",
    "    x = np.loadtxt(os.path.join(DATA_DIR, fname), delimiter=',', skiprows=1)\n",
    "    assert x.ndim == 2\n",
    "    if include_header:\n",
    "        header_cols = np.loadtxt(os.path.join(DATA_DIR, fname), delimiter=',', dtype=str)[0].tolist()\n",
    "        return x, header_cols\n",
    "    else:\n",
    "        return x\n",
    "    \n",
    "def load_1d_arr_from_csv(fname):\n",
    "    x = np.loadtxt(os.path.join(DATA_DIR, fname), delimiter=',', skiprows=1)\n",
    "    if x.ndim == 1:\n",
    "        return x\n",
    "    else:\n",
    "        raise ValueError(\"Not 1d\")"
   ]
  },
  {
   "cell_type": "markdown",
   "metadata": {},
   "source": [
    "### Plotting methods"
   ]
  },
  {
   "cell_type": "code",
   "execution_count": 6,
   "metadata": {},
   "outputs": [],
   "source": [
    "def plot_train_and_valid_error_vs_hyper(\n",
    "        hyper_list, err_tr_list=None, err_va_list=None,\n",
    "        ymax=40,\n",
    "        leg_loc='upper right',\n",
    "        xlabel='polynomial degree',\n",
    "        ylabel='RMSE'):\n",
    "    if err_va_list is not None:\n",
    "        plt.plot(hyper_list, err_va_list, 'rs-', label='valid');\n",
    "    if err_tr_list is not None:\n",
    "        plt.plot(hyper_list, err_tr_list, 'bd:', label='train');\n",
    "    plt.ylim([0, ymax]);\n",
    "    plt.legend(loc=leg_loc);\n",
    "    plt.xlabel(xlabel);\n",
    "    plt.ylabel(ylabel);"
   ]
  },
  {
   "cell_type": "markdown",
   "metadata": {},
   "source": [
    "### Method to sanitize predictions\n",
    "\n",
    "For many regression problems certain values might be impossible or improbable (such as in this case where we can't have a negative miles-per-gallon). However, most machine learning models cannot learn these types of strict rules. Thus, a common practice in ML is to **sanatize** predictions made by a model, confining them to be within reasonable bounds. \n",
    "\n",
    "Here we are predicting MPG, which should \n",
    "* (1) always be positive, and\n",
    "* (2) will probably never exceed 120% of the largest value we see in train data\n",
    "\n",
    "All model predictions should be sanitized before being used. "
   ]
  },
  {
   "cell_type": "code",
   "execution_count": 7,
   "metadata": {},
   "outputs": [],
   "source": [
    "def sanitize(yhat_N):\n",
    "    yhat_N = np.maximum(yhat_N, 0)\n",
    "    yhat_N = np.minimum(yhat_N, Y_MAX)\n",
    "    return yhat_N"
   ]
  },
  {
   "cell_type": "markdown",
   "metadata": {},
   "source": [
    "## Methods for building pipelines\n",
    "\n",
    "These are sklearn pipelines, which define a series of steps that can then be treated as if they were a single classifier.  "
   ]
  },
  {
   "cell_type": "code",
   "execution_count": 34,
   "metadata": {},
   "outputs": [],
   "source": [
    "def make_poly_linear_regr_pipeline(degree=1):\n",
    "    pipeline = sklearn.pipeline.Pipeline(\n",
    "        steps=[\n",
    "         ('rescaler', sklearn.preprocessing.MinMaxScaler()),\n",
    "         ('poly_transformer', sklearn.preprocessing.PolynomialFeatures(degree=degree, include_bias=False)),\n",
    "         ('linear_regr', sklearn.linear_model.LinearRegression()),\n",
    "        ])\n",
    "    \n",
    "    # Return the constructed pipeline\n",
    "    # We can treat it as if it has a 'regression' API\n",
    "    # e.g. a fit and a predict method\n",
    "    return pipeline"
   ]
  },
  {
   "cell_type": "code",
   "execution_count": 10,
   "metadata": {},
   "outputs": [],
   "source": [
    "def make_poly_ridge_regr_pipeline(degree=1, alpha=1.0):\n",
    "    pipeline = sklearn.pipeline.Pipeline(\n",
    "        steps=[\n",
    "         ('rescaler', sklearn.preprocessing.MinMaxScaler()),\n",
    "         ('poly_transformer', sklearn.preprocessing.PolynomialFeatures(degree=degree, include_bias=False)),\n",
    "         ('linear_regr', sklearn.linear_model.Ridge(alpha=alpha)),\n",
    "        ])\n",
    "\n",
    "    # Return the constructed pipeline\n",
    "    # We can treat it as if it has a 'regression' API\n",
    "    # e.g. a fit and a predict method\n",
    "    return pipeline"
   ]
  },
  {
   "cell_type": "markdown",
   "metadata": {},
   "source": [
    "## Method to inspect learned weights\n",
    "\n",
    "Use this function when asked to display learned parameters."
   ]
  },
  {
   "cell_type": "code",
   "execution_count": 11,
   "metadata": {},
   "outputs": [],
   "source": [
    "def pretty_print_learned_weights(pipeline, xcolnames_F):\n",
    "    ''' Print the learned parameters of given pipeline\n",
    "    '''\n",
    "    my_lin_regr = pipeline.named_steps['linear_regr']\n",
    "\n",
    "    feat_names = pipeline.named_steps['poly_transformer'].get_feature_names_out()\n",
    "    coef_values = my_lin_regr.coef_\n",
    "\n",
    "    for feat, coef in zip(feat_names, coef_values):\n",
    "        print(\"% 7.2f : %s\" % (coef, feat))\n",
    "    \n",
    "    print(\"where \")\n",
    "    for ff, colname in enumerate(xcolnames_F):\n",
    "        print(\"x%d = %s\" % (ff, colname))"
   ]
  },
  {
   "cell_type": "markdown",
   "metadata": {},
   "source": [
    "# Analysis\n",
    "\n",
    "The rest of this notebook is an analysis and report of the automobile dataset. Some of the steps of the analysis have already been completed for you. You need to complete the indicated sections in problems 1-3."
   ]
  },
  {
   "cell_type": "markdown",
   "metadata": {},
   "source": [
    "# Load the dataset\n",
    "\n",
    "First, we need to load the predefined 'x' and 'y' arrays for train/valid/test sets using the predefined helper function. "
   ]
  },
  {
   "cell_type": "code",
   "execution_count": 23,
   "metadata": {},
   "outputs": [],
   "source": [
    "x_tr_MF, xcolnames_F = load_2d_arr_from_csv('x_train.csv', include_header=True)\n",
    "x_va_NF = load_2d_arr_from_csv('x_valid.csv')\n",
    "x_te_PF = load_2d_arr_from_csv('x_test.csv')"
   ]
  },
  {
   "cell_type": "code",
   "execution_count": 24,
   "metadata": {},
   "outputs": [],
   "source": [
    "y_tr_M = load_1d_arr_from_csv('y_train.csv')\n",
    "y_va_N = load_1d_arr_from_csv('y_valid.csv')\n",
    "y_te_P = load_1d_arr_from_csv('y_test.csv')"
   ]
  },
  {
   "cell_type": "markdown",
   "metadata": {},
   "source": [
    "We can then take at various parts of our training data. "
   ]
  },
  {
   "cell_type": "code",
   "execution_count": 25,
   "metadata": {},
   "outputs": [
    {
     "name": "stdout",
     "output_type": "stream",
     "text": [
      "Feature Names: ['horsepower', 'weight', 'cylinders', 'displacement']\n",
      "Training data features:\n",
      " [[ 115. 2595.    6.  173.]\n",
      " [ 180. 4380.    8.  350.]\n",
      " [ 150. 4457.    8.  318.]\n",
      " [ 105. 3897.    6.  250.]\n",
      " [ 193. 4732.    8.  304.]]\n",
      "Training data MPGs:\n",
      " [[28.8]\n",
      " [16.5]\n",
      " [14. ]\n",
      " [16. ]\n",
      " [ 9. ]]\n"
     ]
    }
   ],
   "source": [
    "# Feature names\n",
    "print(\"Feature Names:\", xcolnames_F) \n",
    "\n",
    "# First 5 instances in our training data\n",
    "print(\"Training data features:\\n\", x_tr_MF[:5])\n",
    "\n",
    "# MPG for the first 5 instances\n",
    "print(\"Training data MPGs:\\n\", y_tr_M[:5,np.newaxis])"
   ]
  },
  {
   "cell_type": "markdown",
   "metadata": {},
   "source": [
    "Also, we need to set a `Y_MAX` variable so that the sanatize function works. "
   ]
  },
  {
   "cell_type": "code",
   "execution_count": 15,
   "metadata": {},
   "outputs": [
    {
     "data": {
      "text/plain": [
       "46.6"
      ]
     },
     "execution_count": 15,
     "metadata": {},
     "output_type": "execute_result"
    }
   ],
   "source": [
    "# Highest MPG in the training data\n",
    "y_tr_M.max()"
   ]
  },
  {
   "cell_type": "code",
   "execution_count": 16,
   "metadata": {},
   "outputs": [],
   "source": [
    "Y_MAX = y_tr_M.max()*1.2"
   ]
  },
  {
   "cell_type": "markdown",
   "metadata": {},
   "source": [
    "## Load completed code"
   ]
  },
  {
   "cell_type": "markdown",
   "metadata": {},
   "source": [
    "Now we load in the code you wrote in part of of the homework. "
   ]
  },
  {
   "cell_type": "code",
   "execution_count": 26,
   "metadata": {},
   "outputs": [],
   "source": [
    "from performance_metrics import calc_root_mean_squared_error\n",
    "from cross_validation import train_models_and_calc_scores_for_n_fold_cv"
   ]
  },
  {
   "cell_type": "markdown",
   "metadata": {},
   "source": [
    "# Problem 1: Polynomial Degree Selection on Fixed Validation Set\n",
    "\n",
    "**Implementation Step 1A:**\n",
    "\n",
    "Fit a linear regression model to a polynomial feature transformation of the provided training set at each of these possible degrees: [1, 2, 3, 4, 5, 6, 7]. For each hyperparameter setting, record the training set error and the validation set error in terms of RMSE."
   ]
  },
  {
   "cell_type": "code",
   "execution_count": 97,
   "metadata": {},
   "outputs": [],
   "source": [
    "degree_list = [1, 2, 3, 4, 5, 6, 7]\n",
    "fv_err_tr_list = []\n",
    "fv_err_va_list = []\n",
    "\n",
    "fv_pipeline_list = []\n",
    "for degree in degree_list:\n",
    "\n",
    "    pipeline = make_poly_linear_regr_pipeline(degree=degree)\n",
    "    pipeline.fit(x_tr_MF, y_tr_M)\n",
    "\n",
    "    yhat_tr_M = pipeline.predict(x_tr_MF)  \n",
    "    yhat_va_N = pipeline.predict(x_va_NF)\n",
    "\n",
    "    yhat_tr_M = sanitize(yhat_tr_M)\n",
    "    yhat_va_N = sanitize(yhat_va_N)\n",
    "\n",
    "    err_tr = calc_root_mean_squared_error(y_tr_M, yhat_tr_M) \n",
    "    err_va = calc_root_mean_squared_error(y_va_N, yhat_va_N)\n",
    "\n",
    "    fv_err_tr_list.append(err_tr)\n",
    "    fv_err_va_list.append(err_va)\n",
    "    \n",
    "    fv_pipeline_list.append(pipeline)"
   ]
  },
  {
   "cell_type": "markdown",
   "metadata": {},
   "source": [
    "### Implementation 1B: Score on the test set using the chosen model\n",
    "\n",
    "Select the model hyperparameters that *minimize* your fixed validation set error. Using your already-trained LinearRegression model with these best hyperparameters, compute error on the *test* set. Save this test set error value for later."
   ]
  },
  {
   "cell_type": "code",
   "execution_count": 136,
   "metadata": {},
   "outputs": [
    {
     "name": "stdout",
     "output_type": "stream",
     "text": [
      "[4.3603521784039865, 3.974075330754534, 4.15726392138611, 5.891522416925185, 14.872721155689323, 24.507064766509682, 26.871952234844695]\n",
      "Validation RMSE for Degree 2: 3.9741\n",
      "Error on the test-set: 3.9915\n",
      "Error on training set: 3.7347\n"
     ]
    }
   ],
   "source": [
    "print(fv_err_va_list)\n",
    "min_param = np.argmin(fv_err_va_list)\n",
    "\n",
    "\n",
    "pipeline_degree_2 = fv_pipeline_list[min_param] \n",
    "\n",
    "yhat_te_M_min = sanitize(pipeline_degree_2.predict(x_te_PF))\n",
    "\n",
    "test_error_min = calc_root_mean_squared_error(y_te_P, yhat_te_M_min)\n",
    "\n",
    "print(f\"Validation RMSE for Degree {min_param + 1}: {fv_err_va_list[min_param]:.4f}\")\n",
    "print(f\"Error on the test-set: {test_error_min:.4f}\")\n",
    "print(f\"Error on training set: {fv_err_tr_list[min_param]:.4f}\")"
   ]
  },
  {
   "cell_type": "code",
   "execution_count": 109,
   "metadata": {},
   "outputs": [],
   "source": [
    "test_error_part_1 = test_error_min"
   ]
  },
  {
   "cell_type": "markdown",
   "metadata": {},
   "source": [
    "### Figure 1: Error vs degree\n",
    "\n",
    "Once `fv_err_tr_list` and `fv_err_va_list` contain values from part 1A, you can re-run the plotting cell to generate figure 1 with the values you found. "
   ]
  },
  {
   "cell_type": "code",
   "execution_count": 38,
   "metadata": {},
   "outputs": [
    {
     "data": {
      "image/png": "[encoded data removed]",
      "text/plain": [
       "<Figure size 640x480 with 1 Axes>"
      ]
     },
     "metadata": {},
     "output_type": "display_data"
    }
   ],
   "source": [
    "plot_train_and_valid_error_vs_hyper(\n",
    "    degree_list, fv_err_tr_list, fv_err_va_list, leg_loc='upper left');\n",
    "plt.title('RMSE vs. Degree');"
   ]
  },
  {
   "cell_type": "markdown",
   "metadata": {},
   "source": [
    "#### Figure 1: RMSE vs. Degree\n",
    "\n",
    "*Provide a 2 sentence caption answering the questions: How do validation and training error change as degree increases? What degree do you recommend based on this plot?*"
   ]
  },
  {
   "cell_type": "markdown",
   "metadata": {},
   "source": [
    "When degree increases after polynomial degree 3 the validation and training error start to diverge where the validation error increases dramatically after 3. Based on this plot I would recommend polynomial degree 2 because it has about the lowest validation and training error. "
   ]
  },
  {
   "cell_type": "markdown",
   "metadata": {},
   "source": [
    "#### Short Answer 1A\n",
    "\n",
    "The starter code pipelines include a *preprocessing* step that rescales each feature column to be in the unit interval from 0 to 1. \n",
    "Why is this necessary for this particular dataset?\n",
    "What happens (in terms of both training error and test error) if this step is omitted?\n",
    "*Hint: Try removing this step and see.*"
   ]
  },
  {
   "cell_type": "markdown",
   "metadata": {},
   "source": [
    "It is necessary because if you see the graph the training error does not go to zero and it is higher. It is also helpful because if there is a datapoint that is way off then the other ones it might affect the model's performance."
   ]
  },
  {
   "cell_type": "markdown",
   "metadata": {},
   "source": [
    "#### Short Answer 1B\n",
    "\n",
    "Consider the model with degree 1. \n",
    "Following the starter code, print out the values of **all** the learned weight parameters (aka coefficients).\n",
    "From these values, which feature has the highest positive impact on MPG? Which has the highest negative impact? Do these make sense?"
   ]
  },
  {
   "cell_type": "code",
   "execution_count": 37,
   "metadata": {},
   "outputs": [
    {
     "name": "stdout",
     "output_type": "stream",
     "text": [
      "['horsepower', 'weight', 'cylinders', 'displacement']\n",
      " -10.43 : x0\n",
      " -18.23 : x1\n",
      "  -1.15 : x2\n",
      "   0.58 : x3\n",
      "where \n",
      "x0 = horsepower\n",
      "x1 = weight\n",
      "x2 = cylinders\n",
      "x3 = displacement\n"
     ]
    }
   ],
   "source": [
    "# TODO call pretty_print_learned_weights on your pipeline with degree=1 from above\n",
    "# Hint: The names of the original F=4 features are already in your workspace\n",
    "print(xcolnames_F)\n",
    "pretty_print_learned_weights(fv_pipeline_list[0], xcolnames_F)"
   ]
  },
  {
   "cell_type": "markdown",
   "metadata": {},
   "source": [
    "x_3, displacement has the higest positive impact. <br>\n",
    "x_1, weight has the highest negative impact.\n",
    "<br> <br>\n",
    "Displacement makes sense because the more miles you drive the higher MPG. <br>\n",
    "Weight also makes sense because the heavier the vehicle the more gas you would need to drive it.\n"
   ]
  },
  {
   "cell_type": "markdown",
   "metadata": {},
   "source": [
    "# Problem 2: Alpha Selection on Fixed Val Set\n",
    "\n",
    "#### Implementation Step 2A \n",
    "\n",
    "Fix the degree at 4. Consider the below possible `alpha` values for L2-penalized linear regression, aka `Ridge`.\n",
    "\n",
    "Fit a L2-penalized linear regression pipeline for each alpha value above, then record that model's training set error and the validation set error."
   ]
  },
  {
   "cell_type": "code",
   "execution_count": 90,
   "metadata": {},
   "outputs": [
    {
     "name": "stdout",
     "output_type": "stream",
     "text": [
      "[1.e-10 1.e-08 1.e-06 1.e-04 1.e-02 1.e+00 1.e+02 1.e+04 1.e+06]\n"
     ]
    }
   ],
   "source": [
    "my_degree = 4\n",
    "alpha_list = np.asarray([1.e-10, 1.e-08, 1.e-06, 1.e-04, 1.e-02, 1.e+00, 1.e+02, 1.e+04, 1.e+06])\n",
    "print(alpha_list)"
   ]
  },
  {
   "cell_type": "code",
   "execution_count": 110,
   "metadata": {},
   "outputs": [],
   "source": [
    "fv2_err_tr_list = []\n",
    "fv2_err_va_list = []\n",
    "fv2_pipeline_list = []\n",
    "\n",
    "for alpha in alpha_list:\n",
    "\n",
    "    # TODO create a pipeline using features with current degree value\n",
    "    # TODO train this pipeline on provided training data\n",
    "    pipeline = make_poly_ridge_regr_pipeline(my_degree ,alpha=alpha)\n",
    "    pipeline.fit(x_tr_MF, y_tr_M)\n",
    "\n",
    "    yhat_tr_M = sanitize(pipeline.predict(x_tr_MF)) # TODO fixme, be sure to call predict and then sanitize\n",
    "    yhat_va_N = sanitize(pipeline.predict(x_va_NF)) # TODO fixme, be sure to call predict and then sanitize\n",
    "\n",
    "    assert np.all(yhat_va_N >= 0.0)\n",
    "    assert np.all(yhat_va_N <= Y_MAX)\n",
    "    \n",
    "    err_tr = calc_root_mean_squared_error(y_tr_M, yhat_tr_M) # TODO fixme\n",
    "    err_va = calc_root_mean_squared_error(y_va_N, yhat_va_N) # TODO fixme\n",
    "\n",
    "    fv2_err_tr_list.append(err_tr)\n",
    "    fv2_err_va_list.append(err_va)\n",
    "\n",
    "    fv2_pipeline_list.append(pipeline)"
   ]
  },
  {
   "cell_type": "markdown",
   "metadata": {},
   "source": [
    "### Figure 2 in report\n",
    "\n",
    "Make a line plot of mean-squared error on y-axis vs. alpha on x-axis."
   ]
  },
  {
   "cell_type": "code",
   "execution_count": 111,
   "metadata": {},
   "outputs": [
    {
     "data": {
      "image/png": "[encoded data removed]",
      "text/plain": [
       "<Figure size 640x480 with 1 Axes>"
      ]
     },
     "metadata": {},
     "output_type": "display_data"
    }
   ],
   "source": [
    "plot_train_and_valid_error_vs_hyper(\n",
    "    alpha_list, fv2_err_tr_list, fv2_err_va_list,\n",
    "    xlabel='alpha (L2 penalty)', leg_loc='upper left');\n",
    "plt.gca().set_ylim([0, 10]);\n",
    "plt.gca().set_xscale('log');\n",
    "plt.title('Error vs. Alpha');"
   ]
  },
  {
   "cell_type": "markdown",
   "metadata": {},
   "source": [
    "#### Figure 2: Error vs. Alpha\n",
    "\n",
    "Provide a 2 sentence caption answering the questions: How do validation and training set RMSE change with alpha? Do any trends emerge?\n",
    "What alpha value do you recommend based on this plot?"
   ]
  },
  {
   "cell_type": "markdown",
   "metadata": {},
   "source": [
    "For the RMSE training, the error increases as alpha increases and the RMSE for the heldout error decreases and as it gets closer to the RMSE training it follows the same path as RMSE training. Based on this plot the dip in the heldout error is found at alpha = 10^-2 therefore that should be the alpha."
   ]
  },
  {
   "cell_type": "markdown",
   "metadata": {},
   "source": [
    "#### Implementation Step 2B\n",
    "\n",
    "Select the model hyperparameters that *minimize* your fixed validation set error. Using your already-trained model with these best hyperparameters, compute error on the *test* set. \n"
   ]
  },
  {
   "cell_type": "code",
   "execution_count": 115,
   "metadata": {},
   "outputs": [
    {
     "name": "stdout",
     "output_type": "stream",
     "text": [
      "List of Parameters: [1.e-10 1.e-08 1.e-06 1.e-04 1.e-02 1.e+00 1.e+02 1.e+04 1.e+06] \n",
      "Selected Parameters: 4 -> 0.01\n",
      "Fixed validation set estimate of heldout error: 3.9314\n",
      "Error on the test-set: 3.8777\n",
      "Error on training set: 3.6160\n"
     ]
    }
   ],
   "source": [
    "min_parameter = np.argmin(fv2_err_va_list)\n",
    "print(f\"List of Parameters: {alpha_list} \")\n",
    "print(f\"Selected Parameters: {min_parameter} -> {alpha_list[min_parameter]}\")\n",
    "print(f\"Fixed validation set estimate of heldout error: {fv2_err_va_list[min_parameter]:.4f}\")\n",
    "yhat_te_P = fv2_pipeline_list[min_parameter].predict(x_te_PF)\n",
    "yhat_te_P = sanitize(yhat_te_P)\n",
    "err_te = calc_root_mean_squared_error(y_te_P, yhat_te_P)\n",
    "print(f\"Error on the test-set: {err_te:.4f}\")\n",
    "print(f\"Error on training set: {fv2_err_tr_list[min_parameter]:.4f}\")\n"
   ]
  },
  {
   "cell_type": "code",
   "execution_count": 43,
   "metadata": {},
   "outputs": [],
   "source": [
    "test_error_part_2 = err_te"
   ]
  },
  {
   "cell_type": "markdown",
   "metadata": {},
   "source": [
    "#### Short Answer 2a\n",
    "\n",
    "Inspect the learned weight parameters of your chosen degree-4 ridge regression model.\n",
    "How do their relative magnitudes compare to those you printed in 1b above?"
   ]
  },
  {
   "cell_type": "code",
   "execution_count": 61,
   "metadata": {},
   "outputs": [
    {
     "name": "stdout",
     "output_type": "stream",
     "text": [
      " -39.88 : x0\n",
      "   1.56 : x1\n",
      "  14.71 : x2\n",
      " -13.32 : x3\n",
      "  -6.53 : x0^2\n",
      "  -5.93 : x0 x1\n",
      "  21.96 : x0 x2\n",
      "  24.36 : x0 x3\n",
      " -22.82 : x1^2\n",
      "   2.39 : x1 x2\n",
      "  -2.18 : x1 x3\n",
      " -19.42 : x2^2\n",
      " -26.81 : x2 x3\n",
      "   3.47 : x3^2\n",
      "   9.93 : x0^3\n",
      "   5.41 : x0^2 x1\n",
      "   9.37 : x0^2 x2\n",
      "  14.07 : x0^2 x3\n",
      "   8.22 : x0 x1^2\n",
      "   7.41 : x0 x1 x2\n",
      "  12.85 : x0 x1 x3\n",
      "   0.12 : x0 x2^2\n",
      "  -1.49 : x0 x2 x3\n",
      "   0.97 : x0 x3^2\n",
      "  -5.93 : x1^3\n",
      "  -2.12 : x1^2 x2\n",
      "  -2.79 : x1^2 x3\n",
      "   0.19 : x1 x2^2\n",
      "  -2.80 : x1 x2 x3\n",
      "  -0.49 : x1 x3^2\n",
      "  -4.76 : x2^3\n",
      "  -3.17 : x2^2 x3\n",
      "   3.10 : x2 x3^2\n",
      "   5.33 : x3^3\n",
      "   5.15 : x0^4\n",
      "  -4.71 : x0^3 x1\n",
      "  -1.87 : x0^3 x2\n",
      "   5.64 : x0^3 x3\n",
      "  -2.97 : x0^2 x1^2\n",
      "  -5.04 : x0^2 x1 x2\n",
      "   1.79 : x0^2 x1 x3\n",
      " -10.96 : x0^2 x2^2\n",
      "  -4.93 : x0^2 x2 x3\n",
      "  -3.79 : x0^2 x3^2\n",
      "   4.44 : x0 x1^3\n",
      "   2.40 : x0 x1^2 x2\n",
      "   5.23 : x0 x1^2 x3\n",
      "  -4.37 : x0 x1 x2^2\n",
      "  -0.25 : x0 x1 x2 x3\n",
      "  -1.68 : x0 x1 x3^2\n",
      " -16.61 : x0 x2^3\n",
      " -11.02 : x0 x2^2 x3\n",
      " -10.19 : x0 x2 x3^2\n",
      " -13.04 : x0 x3^3\n",
      "   2.39 : x1^4\n",
      "   3.05 : x1^3 x2\n",
      "   0.24 : x1^3 x3\n",
      "   2.79 : x1^2 x2^2\n",
      "   1.78 : x1^2 x2 x3\n",
      "  -2.91 : x1^2 x3^2\n",
      "   4.22 : x1 x2^3\n",
      "   6.13 : x1 x2^2 x3\n",
      "   2.56 : x1 x2 x3^2\n",
      "  -4.81 : x1 x3^3\n",
      "  12.25 : x2^4\n",
      "  17.03 : x2^3 x3\n",
      "  14.30 : x2^2 x3^2\n",
      "   6.02 : x2 x3^3\n",
      "  -4.64 : x3^4\n",
      "where \n",
      "x0 = horsepower\n",
      "x1 = weight\n",
      "x2 = cylinders\n",
      "x3 = displacement\n"
     ]
    }
   ],
   "source": [
    "pretty_print_learned_weights(fv2_pipeline_list[min_parameter], xcolnames_F)"
   ]
  },
  {
   "cell_type": "markdown",
   "metadata": {},
   "source": [
    "The weight parameters changed drastically in its complexity, outputs, and range compared to those of part 1b above."
   ]
  },
  {
   "cell_type": "markdown",
   "metadata": {},
   "source": [
    "#### Short Answer 2b in Report\n",
    "\n",
    "Your colleague suggests that you can determine the regularization strength `alpha` by minimizing the following loss on the *training* set:\n",
    "\n",
    "$$\n",
    "\\text{min}_{w \\in \\mathbb{R}^F, b \\in \\mathbb{R}, \\alpha \\ge 0}\n",
    "\\quad \\sum_{n=1}^N (y_n - \\hat{y}(x_n, w, b))^2 + \\alpha \\sum_{f=1}^F w_f^2\n",
    "$$\n",
    "\n",
    "What value of $\\alpha$ would you pick if you did this? Why is this problematic if your goal is to generalize to new data well?\n",
    "\n",
    "*Hint: Which value of $\\alpha$ would minimize this loss function?*"
   ]
  },
  {
   "cell_type": "markdown",
   "metadata": {},
   "source": [
    "The value of alpha that would minimize the loss on the training set would be 0. This would be problematic because our model will not penalize noise and patterns not representative of data distibution which would lead to overfitting. Therefore our model will not generalize well with new data."
   ]
  },
  {
   "cell_type": "markdown",
   "metadata": {},
   "source": [
    "# Data preprocessing for Problem 3"
   ]
  },
  {
   "cell_type": "markdown",
   "metadata": {},
   "source": [
    "For this problem, you'll again use the provided training set and validation sets. However, you'll *merge* these into a large \"development\" set that contains 292 examples total."
   ]
  },
  {
   "cell_type": "code",
   "execution_count": 127,
   "metadata": {},
   "outputs": [
    {
     "name": "stdout",
     "output_type": "stream",
     "text": [
      "(292, 4)\n"
     ]
    }
   ],
   "source": [
    "x_trva_LF = np.vstack([x_tr_MF, x_va_NF])\n",
    "y_trva_L = np.hstack([y_tr_M, y_va_N])\n",
    "\n",
    "print(x_trva_LF.shape)"
   ]
  },
  {
   "cell_type": "markdown",
   "metadata": {},
   "source": [
    "# Problem 3: Cross Validation for Polynomial Feature Regression"
   ]
  },
  {
   "cell_type": "markdown",
   "metadata": {},
   "source": [
    "### Implementation step 3A\n",
    "\n",
    "For each possible `alpha` value as well as each possible polynomial degree, train and evaluate a `Ridge` regression model across the entire train+validation set using 10-fold cross validation. Use the CV methods you implemented in `cross_validation.py`. For each possible hyperparameter (alpha value and degree value), your 10-fold CV procedure will give you an estimate of the training error and heldout validation error (averaged across all folds). \n"
   ]
  },
  {
   "cell_type": "code",
   "execution_count": 128,
   "metadata": {},
   "outputs": [],
   "source": [
    "K = 10 # num folds of CV\n",
    "degree_list = [1, 2, 3, 4, 5, 6, 7]\n",
    "alpha_list = np.logspace(-10, 6, 17)\n",
    "\n",
    "ridge_param_list = []\n",
    "for alpha in alpha_list:\n",
    "    for degree in degree_list:\n",
    "        ridge_param_list.append(dict(degree=degree, alpha=alpha))\n",
    "        \n",
    "cv_train_err_list = []\n",
    "cv_valid_err_list = []\n",
    "for i, param in enumerate(ridge_param_list):\n",
    "    degree = param['degree']\n",
    "    alpha = param['alpha']\n",
    "    pipeline = make_poly_ridge_regr_pipeline(degree, alpha)\n",
    "    # TODO make pipeline\n",
    "    \n",
    "    # TODO call your function to train a separate model for each fold and return train and valid errors\n",
    "    # Don't forget to pass random_state = SEED (where SEED is defined above) so its reproducible\n",
    "    # tr_error_K, valid_error_K = train_models_and_calc_scores_for_n_fold_cv() # TODO\n",
    "    tr_error_K, valid_error_K = train_models_and_calc_scores_for_n_fold_cv(pipeline, x_trva_LF, y_trva_L, K, SEED)\n",
    "    \n",
    "    err_tr = np.mean(tr_error_K) \n",
    "    err_va = np.mean(valid_error_K) \n",
    "    \n",
    "    cv_train_err_list.append(err_tr)\n",
    "    cv_valid_err_list.append(err_va)"
   ]
  },
  {
   "cell_type": "markdown",
   "metadata": {},
   "source": [
    "### Implementation step 3B\n",
    "\n",
    "Select the model hyperparameters that *minimize* your estimated cross-validation error. Using these best hyperparameters, retrain the model using the full development set (concatenating the predefined training and validation sets). Then compute that (retrained) model's error on the test set.\n",
    "\n",
    "Save this test set error value for later."
   ]
  },
  {
   "cell_type": "code",
   "execution_count": 132,
   "metadata": {},
   "outputs": [
    {
     "name": "stdout",
     "output_type": "stream",
     "text": [
      "69\n",
      "Selected Parameters: {'degree': 7, 'alpha': 0.1}\n",
      "10-fold CV estimate of heldout error: 3.8599\n",
      "Error on the test-set: 3.8168\n",
      "Error on training set: 3.7099\n"
     ]
    }
   ],
   "source": [
    "min_param = np.argmin(cv_valid_err_list)\n",
    "print(min_param)\n",
    "print(f\"Selected Parameters: {ridge_param_list[min_param]}\")\n",
    "print(f\"10-fold CV estimate of heldout error: {cv_valid_err_list[min_param]:.4f}\")\n",
    "degree = ridge_param_list[min_param]['degree']\n",
    "alpha = ridge_param_list[min_param]['alpha']\n",
    "\n",
    "pipeline = make_poly_ridge_regr_pipeline(degree, alpha)\n",
    "pipeline.fit(x_trva_LF, y_trva_L)\n",
    "\n",
    "yhat_te_P = sanitize(pipeline.predict(x_te_PF))\n",
    "\n",
    "err_te = calc_root_mean_squared_error(y_te_P, yhat_te_P)\n",
    "print(f\"Error on the test-set: {err_te:.4f}\")\n",
    "print(f\"Error on training set: {cv_train_err_list[min_param]:.4f}\")\n"
   ]
  },
  {
   "cell_type": "code",
   "execution_count": 135,
   "metadata": {},
   "outputs": [
    {
     "name": "stdout",
     "output_type": "stream",
     "text": [
      "training error baseline: 8.2311\n",
      "validation error baseline: 7.5921\n",
      "test error baseline: 7.1045\n"
     ]
    }
   ],
   "source": [
    "baseline_mean = np.mean(y_tr_M)\n",
    "\n",
    "yhat_tr_M_b = sanitize(np.full(len(x_tr_MF), baseline_mean))\n",
    "yhat_va_N_b = sanitize(np.full(len(x_va_NF), baseline_mean))\n",
    "yhat_te_P_b = sanitize(np.full(len(x_te_PF), baseline_mean))\n",
    "\n",
    "tr_err_b = calc_root_mean_squared_error(y_tr_M, yhat_tr_M_b)\n",
    "va_err_b = calc_root_mean_squared_error(y_va_N, yhat_va_N_b)\n",
    "te_err_b = calc_root_mean_squared_error(y_te_P, yhat_te_P_b)\n",
    "\n",
    "print(f\"training error baseline: {tr_err_b:.4f}\")\n",
    "print(f\"validation error baseline: {va_err_b:.4f}\")\n",
    "print(f\"test error baseline: {te_err_b:.4f}\")\n"
   ]
  },
  {
   "cell_type": "markdown",
   "metadata": {},
   "source": [
    "### Table 3: Comparing Pipelines on the test set\n",
    "\n",
    "In one neat table, please compare the *test set* root-mean-squared-error (RMSE) performance for the following regressors:\n",
    "\n",
    "* Baseline: A predictor that always guesses the *mean* $y$ value of the training set, regardless of the new test input\n",
    "* The best Poly+Linear pipeline, picking degree to minimize val set error (from 1B)\n",
    "* The best Poly+Ridge pipeline, fixing degree=4 and picking alpha to minimize val set error (from 2B)\n",
    "* The best Poly+Ridge pipeline, picking degree and alpha to minimize 10-fold cross validation error (from 3B)"
   ]
  },
  {
   "cell_type": "markdown",
   "metadata": {},
   "source": [
    "TODO make a table in your report using the saved values from 1B, 2B and 3B above. You can fill in the below Markdown table. \n",
    "\n",
    "| Name                          | Hyperparameter Value(s)     | Test RMSE | Train RMSE |\n",
    "|-------------------------------|-----------------------------|-----------|------------|\n",
    "|      Baseline mean prediction | None                        | 7.1045      | 8.2311       |\n",
    "|      Poly+Linear pipeine (1B) | Degree = 2               | 3.9915      | 3.7347       |\n",
    "|  Poly+Ridge Alpha Search (2B) | Degree = 4, Alpha = 0.01    | 3.8777      | 3.6160       |\n",
    "| Poly + Ridge Grid Search (3B) | Degree = 7, Alpha = 0.1 | 3.8168      | 3.7099       |\n",
    "\n"
   ]
  },
  {
   "cell_type": "markdown",
   "metadata": {},
   "source": [
    "Table 3: \n",
    "*Provide a 2-4 sentence caption answering the question: \n",
    "What pipeline in Table 3 performed best in terms of heldout error, and why do you thik that pipeline performed the best? \n",
    "What pipeline in Table 3 performed worst in terms of heldout error, and why do you thik that pipeline performed the worst?*"
   ]
  },
  {
   "cell_type": "markdown",
   "metadata": {},
   "source": [
    "The pipeline that performed the best in heldout error was Poly + Ridge Grid Search (3B) with 3.8599. The reason it performed the best is because it uses both polynomial features and regularization which avoids overfitting the model. <br/>\n",
    "\n",
    "The pipeline that performed the worst in heldout error was Baseline mean prediction with a heldout error of 7.5921. The reason being that it does not use any features to make its predictions as it only uses the mean of the labels.\n"
   ]
  },
  {
   "cell_type": "markdown",
   "metadata": {},
   "source": [
    "## Reflection\n",
    "Please fill in the following information about your HW1 solution.\n",
    "\n",
    "How many hours did HW1 take you? 10-12 hours\n",
    "\n",
    "Did you use any resources outside of class materials and official documentation, such as StackOverflow threads or ChatGPT? If so, please list such resources below: \n",
    "\n",
    "I used stackoverflow, the labs from the class, slideshows, and google search for random terminology or Numpy functions that I could use."
   ]
  },
  {
   "cell_type": "markdown",
   "metadata": {},
   "source": []
  }
 ],
 "metadata": {
  "kernelspec": {
   "display_name": "Python 3 (ipykernel)",
   "language": "python",
   "name": "python3"
  },
  "language_info": {
   "codemirror_mode": {
    "name": "ipython",
    "version": 3
   },
   "file_extension": ".py",
   "mimetype": "text/x-python",
   "name": "python",
   "nbconvert_exporter": "python",
   "pygments_lexer": "ipython3",
   "version": "3.10.14"
  }
 },
 "nbformat": 4,
 "nbformat_minor": 4
}
