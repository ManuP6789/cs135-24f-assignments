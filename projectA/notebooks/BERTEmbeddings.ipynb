{
 "cells": [
  {
   "cell_type": "markdown",
   "metadata": {},
   "source": [
    "## Generating Embeddings with BERT (Bidirectional Encoder Representations from Transformers) \n",
    "\n",
    "### What is BERT?\n",
    "BERT is a large state-of-the-art neural network that has been trained on a large corpora of text (millions of sentences). Its applications include but are not limited to:\n",
    "\n",
    "- Sentiment analysis\n",
    "- Text classification\n",
    "- Question answering systems\n",
    " \n",
    "In this notebook, we walk through how BERT generates fixed-length embeddings (features) from a sentence. You could think of these embeddings as an alternate feature extraction technique compared to bag of words. The BERT model has 2 main components as shown below \n",
    "\n"
   ]
  },
  {
   "cell_type": "markdown",
   "metadata": {},
   "source": [
    "## 1. Tokenizer (Converting sentences into series of numerical tokens):\n",
    "\n",
    "The tokenizer in BERT is like a translator that converts sentences into a series of numerical tokens that the BERT model can understand. Specifically, it does the following:\n",
    "\n",
    "- Splits Text: It breaks down sentences into smaller pieces called tokens. These tokens can be as short as one character or as long as one word. For example, the word \"chatting\" might be split into \"chat\" and \"##ting\".\n",
    "\n",
    "- Converts Tokens to IDs: Each token has a unique ID in BERT's vocabulary. The tokenizer maps every token to its corresponding ID. This is like looking up the \"meaning\" of the word in BERT's dictionary.\n",
    "\n",
    "- Adds Special Tokens: BERT requires certain special tokens for its tasks, like [CLS] at the beginning of a sentence and [SEP] at the end or between two sentences. The tokenizer adds these in.\n",
    "\n",
    "\n",
    "### Example usage of the tokenizer\n",
    "\n",
    "In the cell below, we see how BERT tokenizes 3 sentences and decodes them back.\n",
    "\n",
    "We'll use the following example sentences:\n",
    "\n",
    "1. \"The sky is blue.\"\n",
    "2. \"Sky is clear today.\"\n",
    "3. \"Look at the clear blue sky.\"\n"
   ]
  },
  {
   "cell_type": "code",
   "execution_count": 1,
   "metadata": {},
   "outputs": [],
   "source": [
    "# Import required libraries\n",
    "from transformers import AutoTokenizer\n",
    "\n",
    "# # Load pre-trained BERT tokenizer and model\n",
    "sentences = [\"The sky is blue.\", \"Sky is clear today.\", \"Look at the clear blue sky.\"]\n",
    "tokenizer = AutoTokenizer.from_pretrained(\"bert-base-cased\")\n",
    "encoded_text = tokenizer(sentences, padding=True,\n",
    "                         max_length=10,\n",
    "                         truncation=True)['input_ids']\n",
    "\n",
    "print('----------------------------------------------')\n",
    "print('Examples of tokenizing the sentences with BERT')\n",
    "print('----------------------------------------------')\n",
    "for jj, txt in enumerate(sentences):\n",
    "    print('%s is enocoded as : %s'%(txt, encoded_text[jj]))\n",
    "\n",
    "print('----------------------------------------------')\n",
    "print('Examples of decoding the tokens back to English')\n",
    "print('----------------------------------------------')\n",
    "for enc in encoded_text:\n",
    "    decoded_text = tokenizer.decode(enc)\n",
    "    print(\"Decoded tokens back into text: \", decoded_text)"
   ]
  },
  {
   "cell_type": "markdown",
   "metadata": {},
   "source": [
    "## 2. Model (Extracting meaningful feature representations from the sentences):\n",
    "\n",
    "Once the text is tokenized and converted into the necessary format, it's fed into the BERT model. \n",
    "The **model** processes these inputs to generate contextual embeddings or representations for each token. These representations can then be utilized for various downstream tasks like classification, entity recognition, and more."
   ]
  },
  {
   "cell_type": "code",
   "execution_count": 2,
   "metadata": {},
   "outputs": [],
   "source": [
    "import torch\n",
    "from transformers import BertTokenizer, BertModel\n",
    "import numpy as np\n",
    "import pandas as pd\n",
    "import os\n",
    "# Initialize BERT tokenizer and model\n",
    "model_name = \"bert-base-uncased\"\n",
    "tokenizer = BertTokenizer.from_pretrained(model_name)\n",
    "model = BertModel.from_pretrained(model_name)\n",
    "\n",
    "def get_bert_embedding(sentence_list, pooling_strategy='cls'):\n",
    "    embedding_list = []\n",
    "    for nn, sentence in enumerate(sentence_list):\n",
    "        if (nn%100==0)&(nn>0):\n",
    "            print('Done with %d sentences'%nn)\n",
    "        \n",
    "        # Tokenize the sentence and get the output from BERT\n",
    "        inputs = tokenizer(sentence, return_tensors=\"pt\")\n",
    "        with torch.no_grad():\n",
    "            outputs = model(**inputs)\n",
    "        # Take the embeddings from the last hidden state (optionally, one can use pooling techniques for different representations)\n",
    "        # Here, we take the [CLS] token representation as the sentence embedding\n",
    "        last_hidden_states = outputs.last_hidden_state[0]\n",
    "        \n",
    "        # Pooling strategies\n",
    "        if pooling_strategy == \"cls\":\n",
    "            sentence_embedding = last_hidden_states[0]\n",
    "        elif pooling_strategy == \"mean\":\n",
    "            sentence_embedding = torch.mean(last_hidden_states, dim=0)\n",
    "        elif pooling_strategy == \"max\":\n",
    "            sentence_embedding, _ = torch.max(last_hidden_states, dim=0)\n",
    "        else:\n",
    "            raise ValueError(f\"Unknown pooling strategy: {pooling_strategy}\")\n",
    "        \n",
    "        embedding_list.append(sentence_embedding)\n",
    "    return torch.stack(embedding_list)\n",
    "\n",
    "sentence = [sentences[0]]\n",
    "embedding = get_bert_embedding(sentence)\n",
    "\n",
    "np.set_printoptions(precision=3, suppress=True)\n",
    "print('-----------------------------------------------------------------------------------------------------------')\n",
    "print('The sentence \"%s\" has been converted to a feature representation of shape %s'%(sentence[0], embedding.numpy().shape))\n",
    "print('-----------------------------------------------------------------------------------------------------------')\n",
    "print(embedding.numpy()[0])"
   ]
  },
  {
   "cell_type": "code",
   "execution_count": 3,
   "metadata": {},
   "outputs": [],
   "source": [
    "print('Loading data...')\n",
    "x_train_df = pd.read_csv('../data_reviews/x_train.csv')\n",
    "x_test_df = pd.read_csv('../data_reviews/x_test.csv')\n",
    "\n",
    "tr_text_list = x_train_df['text'].values.tolist()\n",
    "te_text_list = x_test_df['text'].values.tolist()"
   ]
  },
  {
   "cell_type": "code",
   "execution_count": 4,
   "metadata": {},
   "outputs": [],
   "source": [
    "print('Generating embeddings for train sequences...')\n",
    "tr_embedding = get_bert_embedding(tr_text_list)\n",
    "\n",
    "print('Generating embeddings for test sequences...')\n",
    "te_embedding = get_bert_embedding(te_text_list)\n"
   ]
  },
  {
   "cell_type": "code",
   "execution_count": 5,
   "metadata": {},
   "outputs": [],
   "source": [
    "tr_embeddings_ND = tr_embedding.numpy()\n",
    "te_embeddings_ND = te_embedding.numpy()\n",
    "\n",
    "save_dir = os.path.abspath('../data_reviews/')\n",
    "print('Saving the train and test embeddings to %s'%save_dir)\n",
    "\n",
    "np.save(os.path.join(save_dir, 'x_train_BERT_embeddings.npy'), tr_embeddings_ND)\n",
    "np.save(os.path.join(save_dir, 'x_test_BERT_embeddings.npy'), te_embeddings_ND)"
   ]
  },
  {
   "cell_type": "code",
   "execution_count": 48,
   "metadata": {},
   "outputs": [],
   "source": [
    "import numpy as np\n",
    "import os\n",
    "from sklearn.svm import SVC\n",
    "import matplotlib.pyplot as plt\n",
    "from sklearn.metrics import classification_report, confusion_matrix, roc_auc_score\n",
    "from sklearn.preprocessing import StandardScaler\n",
    "from sklearn.model_selection import GridSearchCV, cross_val_score\n",
    "from sklearn.model_selection import RandomizedSearchCV"
   ]
  },
  {
   "cell_type": "code",
   "execution_count": 42,
   "metadata": {},
   "outputs": [],
   "source": [
    "# Load the precomputed BERT embeddings\n",
    "train_embeddings = np.load(os.path.join(save_dir, 'x_train_BERT_embeddings.npy'))\n",
    "test_embeddings = np.load(os.path.join(save_dir, 'x_test_BERT_embeddings.npy'))\n",
    "\n",
    "# Load the labels (we only have y_train, so we'll still fit on it)\n",
    "y_train_df = pd.read_csv('../data_reviews/y_train.csv')\n",
    "y_train = y_train_df['is_positive_sentiment'].values\n",
    "\n",
    "# Standardize the embeddings before training SVC\n",
    "scaler = StandardScaler()\n",
    "X_train_scaled = scaler.fit_transform(train_embeddings)\n",
    "X_test_scaled = scaler.transform(test_embeddings)"
   ]
  },
  {
   "cell_type": "markdown",
   "metadata": {},
   "source": [
    "## Show similarity between reviews using the embeddings"
   ]
  },
  {
   "cell_type": "code",
   "execution_count": 43,
   "metadata": {},
   "outputs": [
    {
     "data": {
      "text/html": [
       "<style>#sk-container-id-3 {color: black;background-color: white;}#sk-container-id-3 pre{padding: 0;}#sk-container-id-3 div.sk-toggleable {background-color: white;}#sk-container-id-3 label.sk-toggleable__label {cursor: pointer;display: block;width: 100%;margin-bottom: 0;padding: 0.3em;box-sizing: border-box;text-align: center;}#sk-container-id-3 label.sk-toggleable__label-arrow:before {content: \"▸\";float: left;margin-right: 0.25em;color: #696969;}#sk-container-id-3 label.sk-toggleable__label-arrow:hover:before {color: black;}#sk-container-id-3 div.sk-estimator:hover label.sk-toggleable__label-arrow:before {color: black;}#sk-container-id-3 div.sk-toggleable__content {max-height: 0;max-width: 0;overflow: hidden;text-align: left;background-color: #f0f8ff;}#sk-container-id-3 div.sk-toggleable__content pre {margin: 0.2em;color: black;border-radius: 0.25em;background-color: #f0f8ff;}#sk-container-id-3 input.sk-toggleable__control:checked~div.sk-toggleable__content {max-height: 200px;max-width: 100%;overflow: auto;}#sk-container-id-3 input.sk-toggleable__control:checked~label.sk-toggleable__label-arrow:before {content: \"▾\";}#sk-container-id-3 div.sk-estimator input.sk-toggleable__control:checked~label.sk-toggleable__label {background-color: #d4ebff;}#sk-container-id-3 div.sk-label input.sk-toggleable__control:checked~label.sk-toggleable__label {background-color: #d4ebff;}#sk-container-id-3 input.sk-hidden--visually {border: 0;clip: rect(1px 1px 1px 1px);clip: rect(1px, 1px, 1px, 1px);height: 1px;margin: -1px;overflow: hidden;padding: 0;position: absolute;width: 1px;}#sk-container-id-3 div.sk-estimator {font-family: monospace;background-color: #f0f8ff;border: 1px dotted black;border-radius: 0.25em;box-sizing: border-box;margin-bottom: 0.5em;}#sk-container-id-3 div.sk-estimator:hover {background-color: #d4ebff;}#sk-container-id-3 div.sk-parallel-item::after {content: \"\";width: 100%;border-bottom: 1px solid gray;flex-grow: 1;}#sk-container-id-3 div.sk-label:hover label.sk-toggleable__label {background-color: #d4ebff;}#sk-container-id-3 div.sk-serial::before {content: \"\";position: absolute;border-left: 1px solid gray;box-sizing: border-box;top: 0;bottom: 0;left: 50%;z-index: 0;}#sk-container-id-3 div.sk-serial {display: flex;flex-direction: column;align-items: center;background-color: white;padding-right: 0.2em;padding-left: 0.2em;position: relative;}#sk-container-id-3 div.sk-item {position: relative;z-index: 1;}#sk-container-id-3 div.sk-parallel {display: flex;align-items: stretch;justify-content: center;background-color: white;position: relative;}#sk-container-id-3 div.sk-item::before, #sk-container-id-3 div.sk-parallel-item::before {content: \"\";position: absolute;border-left: 1px solid gray;box-sizing: border-box;top: 0;bottom: 0;left: 50%;z-index: -1;}#sk-container-id-3 div.sk-parallel-item {display: flex;flex-direction: column;z-index: 1;position: relative;background-color: white;}#sk-container-id-3 div.sk-parallel-item:first-child::after {align-self: flex-end;width: 50%;}#sk-container-id-3 div.sk-parallel-item:last-child::after {align-self: flex-start;width: 50%;}#sk-container-id-3 div.sk-parallel-item:only-child::after {width: 0;}#sk-container-id-3 div.sk-dashed-wrapped {border: 1px dashed gray;margin: 0 0.4em 0.5em 0.4em;box-sizing: border-box;padding-bottom: 0.4em;background-color: white;}#sk-container-id-3 div.sk-label label {font-family: monospace;font-weight: bold;display: inline-block;line-height: 1.2em;}#sk-container-id-3 div.sk-label-container {text-align: center;}#sk-container-id-3 div.sk-container {/* jupyter's `normalize.less` sets `[hidden] { display: none; }` but bootstrap.min.css set `[hidden] { display: none !important; }` so we also need the `!important` here to be able to override the default hidden behavior on the sphinx rendered scikit-learn.org. See: https://github.com/scikit-learn/scikit-learn/issues/21755 */display: inline-block !important;position: relative;}#sk-container-id-3 div.sk-text-repr-fallback {display: none;}</style><div id=\"sk-container-id-3\" class=\"sk-top-container\"><div class=\"sk-text-repr-fallback\"><pre>GridSearchCV(cv=5, estimator=SVC(class_weight=&#x27;balanced&#x27;, probability=True),\n",
       "             param_grid={&#x27;C&#x27;: [0.1, 1, 10, 100], &#x27;gamma&#x27;: [&#x27;scale&#x27;, &#x27;auto&#x27;],\n",
       "                         &#x27;kernel&#x27;: [&#x27;linear&#x27;, &#x27;rbf&#x27;]},\n",
       "             scoring=&#x27;roc_auc&#x27;)</pre><b>In a Jupyter environment, please rerun this cell to show the HTML representation or trust the notebook. <br />On GitHub, the HTML representation is unable to render, please try loading this page with nbviewer.org.</b></div><div class=\"sk-container\" hidden><div class=\"sk-item sk-dashed-wrapped\"><div class=\"sk-label-container\"><div class=\"sk-label sk-toggleable\"><input class=\"sk-toggleable__control sk-hidden--visually\" id=\"sk-estimator-id-7\" type=\"checkbox\" ><label for=\"sk-estimator-id-7\" class=\"sk-toggleable__label sk-toggleable__label-arrow\">GridSearchCV</label><div class=\"sk-toggleable__content\"><pre>GridSearchCV(cv=5, estimator=SVC(class_weight=&#x27;balanced&#x27;, probability=True),\n",
       "             param_grid={&#x27;C&#x27;: [0.1, 1, 10, 100], &#x27;gamma&#x27;: [&#x27;scale&#x27;, &#x27;auto&#x27;],\n",
       "                         &#x27;kernel&#x27;: [&#x27;linear&#x27;, &#x27;rbf&#x27;]},\n",
       "             scoring=&#x27;roc_auc&#x27;)</pre></div></div></div><div class=\"sk-parallel\"><div class=\"sk-parallel-item\"><div class=\"sk-item\"><div class=\"sk-label-container\"><div class=\"sk-label sk-toggleable\"><input class=\"sk-toggleable__control sk-hidden--visually\" id=\"sk-estimator-id-8\" type=\"checkbox\" ><label for=\"sk-estimator-id-8\" class=\"sk-toggleable__label sk-toggleable__label-arrow\">estimator: SVC</label><div class=\"sk-toggleable__content\"><pre>SVC(class_weight=&#x27;balanced&#x27;, probability=True)</pre></div></div></div><div class=\"sk-serial\"><div class=\"sk-item\"><div class=\"sk-estimator sk-toggleable\"><input class=\"sk-toggleable__control sk-hidden--visually\" id=\"sk-estimator-id-9\" type=\"checkbox\" ><label for=\"sk-estimator-id-9\" class=\"sk-toggleable__label sk-toggleable__label-arrow\">SVC</label><div class=\"sk-toggleable__content\"><pre>SVC(class_weight=&#x27;balanced&#x27;, probability=True)</pre></div></div></div></div></div></div></div></div></div></div>"
      ],
      "text/plain": [
       "GridSearchCV(cv=5, estimator=SVC(class_weight='balanced', probability=True),\n",
       "             param_grid={'C': [0.1, 1, 10, 100], 'gamma': ['scale', 'auto'],\n",
       "                         'kernel': ['linear', 'rbf']},\n",
       "             scoring='roc_auc')"
      ]
     },
     "execution_count": 43,
     "metadata": {},
     "output_type": "execute_result"
    }
   ],
   "source": [
    "# Train SVC (you can tune hyperparameters via GridSearchCV later if needed) 9min\n",
    "param_grid = {\n",
    "    'C': [0.1, 1, 10, 100],\n",
    "    'gamma': ['scale', 'auto'],\n",
    "    'kernel': ['linear', 'rbf']\n",
    "}\n",
    "\n",
    "# Initialize SVC\n",
    "svc = SVC(class_weight='balanced', probability=True)\n",
    "\n",
    "# Initialize GridSearchCV\n",
    "grid_search = GridSearchCV(\n",
    "    estimator=svc, \n",
    "    param_grid=param_grid, \n",
    "    scoring='roc_auc', \n",
    "    cv=5\n",
    ")\n",
    "\n",
    "# Fit GridSearchCV\n",
    "grid_search.fit(X_train_scaled, y_train)"
   ]
  },
  {
   "cell_type": "code",
   "execution_count": 44,
   "metadata": {},
   "outputs": [
    {
     "name": "stdout",
     "output_type": "stream",
     "text": [
      "Best parameters found:  {'C': 1, 'gamma': 'auto', 'kernel': 'rbf'}\n",
      "Best cross-validation AUC:  0.96721875\n"
     ]
    }
   ],
   "source": [
    "# Retrieve the best parameters and best score\n",
    "print(\"Best parameters found: \", grid_search.best_params_)\n",
    "print(\"Best cross-validation AUC: \", grid_search.best_score_)\n",
    "\n",
    "# # Use the best estimator from GridSearchCV to make predictions\n",
    "best_svc = grid_search.best_estimator_"
   ]
  },
  {
   "cell_type": "code",
   "execution_count": 51,
   "metadata": {},
   "outputs": [
    {
     "data": {
      "image/png": "[encoded data removed]",
      "text/plain": [
       "<Figure size 1000x600 with 1 Axes>"
      ]
     },
     "metadata": {},
     "output_type": "display_data"
    }
   ],
   "source": [
    "# Extract C values from the parameter grid\n",
    "C_values = param_grid['C']\n",
    "\n",
    "# Filter the cv_results_ for kernel='rbf' and gamma='scale'\n",
    "mask = (grid_search.cv_results_['param_kernel'] == 'rbf') & (grid_search.cv_results_['param_gamma'] == 'scale')\n",
    "\n",
    "# Apply the mask to get the relevant test scores\n",
    "test_scores_mean = grid_search.cv_results_['mean_test_score'][mask]\n",
    "test_scores_std = grid_search.cv_results_['std_test_score'][mask]\n",
    "\n",
    "# Extract the individual split test scores (validation scores for each fold)\n",
    "splits = 5  # Number of CV splits\n",
    "test_scores_per_fold = []\n",
    "\n",
    "for i in range(splits):\n",
    "    test_scores_per_fold.append(grid_search.cv_results_[f'split{i}_test_score'][mask])\n",
    "\n",
    "# Convert test scores to a NumPy array for easy plotting\n",
    "test_scores_per_fold = np.array(test_scores_per_fold)\n",
    "\n",
    "# Create the plot\n",
    "plt.figure(figsize=(10, 6))\n",
    "\n",
    "# Plot the mean validation scores with error bars\n",
    "plt.errorbar(C_values, test_scores_mean, yerr=test_scores_std, label='Mean Validation AUC', fmt='o-', capsize=5)\n",
    "\n",
    "# Add individual points for each fold's performance\n",
    "for i in range(splits):\n",
    "    plt.scatter(C_values, test_scores_per_fold[i], label=f'Fold {i+1} Validation AUC', alpha=0.5)\n",
    "\n",
    "# Add labels, title, legend\n",
    "plt.xscale('log')  # Logarithmic scale for C values\n",
    "plt.xlabel('C (Log Scale)')\n",
    "plt.ylabel('AUC Score')\n",
    "plt.title('SVC Validation Performance Across Cross-Validation Folds')\n",
    "plt.legend(loc='best')\n",
    "\n",
    "# Show plot\n",
    "plt.show()"
   ]
  },
  {
   "cell_type": "code",
   "execution_count": 69,
   "metadata": {},
   "outputs": [
    {
     "name": "stdout",
     "output_type": "stream",
     "text": [
      "5\n",
      "[0 1]\n",
      "<bound method BaseEstimator.__getstate__ of GridSearchCV(cv=5, estimator=SVC(class_weight='balanced', probability=True),\n",
      "             param_grid={'C': [0.1, 1, 10, 100], 'gamma': ['scale', 'auto'],\n",
      "                         'kernel': ['linear', 'rbf']},\n",
      "             scoring='roc_auc')>\n",
      "<built-in method __format__ of GridSearchCV object at 0x3052a3310>\n",
      "<bound method GridSearchCV.__init__ of GridSearchCV(cv=5, estimator=SVC(class_weight='balanced', probability=True),\n",
      "             param_grid={'C': [0.1, 1, 10, 100], 'gamma': ['scale', 'auto'],\n",
      "                         'kernel': ['linear', 'rbf']},\n",
      "             scoring='roc_auc')>\n"
     ]
    }
   ],
   "source": [
    "print(grid_search.n_splits_)\n",
    "print(grid_search.classes_)\n",
    "print(grid_search.__getstate__)\n",
    "print(grid_search.__format__)\n",
    "print(grid_search.__init__)\n",
    "print(grid_search)"
   ]
  },
  {
   "cell_type": "code",
   "execution_count": 38,
   "metadata": {},
   "outputs": [
    {
     "name": "stdout",
     "output_type": "stream",
     "text": [
      "Training AUC: 0.9967\n",
      "Training AUC: 0.9967\n"
     ]
    }
   ],
   "source": [
    "# Make predictions (probabilities) for training set\n",
    "y_pred_prob_train = best_svc.predict_proba(X_train_scaled)[:, 1]\n",
    "auc_train = roc_auc_score(y_train, y_pred_prob_train)\n",
    "print(f'Training AUC: {auc_train:.4f}')\n",
    "\n",
    "\n",
    "# Calculate AUC for the training set\n",
    "auc_train = roc_auc_score(y_train, y_pred_prob_train)\n",
    "print(f'Training AUC: {auc_train:.4f}')\n",
    "\n",
    "# Make predictions on test set\n",
    "y_pred_prob_test = best_svc.predict_proba(X_test_scaled)[:, 1] "
   ]
  },
  {
   "cell_type": "code",
   "execution_count": 72,
   "metadata": {},
   "outputs": [
    {
     "name": "stdout",
     "output_type": "stream",
     "text": [
      "False Positives (Train):\n",
      "                                                                                                 Review  \\\n",
      "53  I really wanted the Plantronics 510 to be the right one, but it has too many issues for me.The good   \n",
      "54                                                                  Excellent starter wireless headset.   \n",
      "77                       Still Waiting...... I'm sure this item would work well.. if I ever recieve it!   \n",
      "79                 Think it over when you plan to own this one!This sure is the last MOTO phone for me!   \n",
      "89                                                                              We are sending it back.   \n",
      "\n",
      "    True  Predicted  \n",
      "53     0   0.764119  \n",
      "54     0   0.927235  \n",
      "77     0   0.793727  \n",
      "79     0   0.836298  \n",
      "89     0   0.575520  \n",
      "\n",
      "False Negatives (Train):\n",
      "                                                                                               Review  \\\n",
      "435  This is cool because most cases are just open there allowing the screen to get all scratched up.   \n",
      "512                                                                          !I definitly recommend!!   \n",
      "526         I have yet to run this new battery below two bars and that's three days without charging.   \n",
      "562                                        Much less than the jawbone I was going to replace it with.   \n",
      "652                                                                You can't beat the price on these.   \n",
      "\n",
      "     True  Predicted  \n",
      "435     1   0.381474  \n",
      "512     1   0.455840  \n",
      "526     1   0.037206  \n",
      "562     1   0.199860  \n",
      "652     1   0.042142  \n"
     ]
    }
   ],
   "source": [
    "# Get predicted probabilities for the training set\n",
    "y_pred_prob_train = best_svc.predict_proba(X_train_scaled)[:, 1]  # Only the positive class probabilities\n",
    "pd.set_option('display.max_colwidth', None)  # None will display all content without truncation\n",
    "\n",
    "\n",
    "# Create a DataFrame for analysis on the training set\n",
    "results_train_df = pd.DataFrame({\n",
    "    'True': y_train,                     # True labels\n",
    "    'Predicted': y_pred_prob_train,      # Predicted probabilities for the positive class\n",
    "    'Review': x_train_df['text'].values.tolist()                     # Assuming texts contains review texts\n",
    "})\n",
    "\n",
    "# Identify false positives and false negatives on the training set\n",
    "false_positives_train = results_train_df[(results_train_df['True'] == 0) & (results_train_df['Predicted'] >= 0.5)]  # Change this to >= 0.5 for binary classification\n",
    "false_negatives_train = results_train_df[(results_train_df['True'] == 1) & (results_train_df['Predicted'] < 0.5)]   # Change this to < 0.5 for binary classification\n",
    "\n",
    "# Display examples of false positives and false negatives from the training set\n",
    "print(\"False Positives (Train):\")\n",
    "print(false_positives_train[['Review', 'True', 'Predicted']].head(5))  # Show first 5 examples\n",
    "\n",
    "print(\"\\nFalse Negatives (Train):\")\n",
    "print(false_negatives_train[['Review', 'True', 'Predicted']].head(5))  # Show f"
   ]
  },
  {
   "cell_type": "code",
   "execution_count": 57,
   "metadata": {},
   "outputs": [
    {
     "ename": "AttributeError",
     "evalue": "'int' object has no attribute 'split'",
     "output_type": "error",
     "traceback": [
      "\u001b[0;31m---------------------------------------------------------------------------\u001b[0m",
      "\u001b[0;31mAttributeError\u001b[0m                            Traceback (most recent call last)",
      "Cell \u001b[0;32mIn[57], line 19\u001b[0m\n\u001b[1;32m     16\u001b[0m test_indices \u001b[38;5;241m=\u001b[39m []\n\u001b[1;32m     18\u001b[0m \u001b[38;5;66;03m# Get the indices for the first fold\u001b[39;00m\n\u001b[0;32m---> 19\u001b[0m \u001b[38;5;28;01mfor\u001b[39;00m fold, (train_idx, test_idx) \u001b[38;5;129;01min\u001b[39;00m \u001b[38;5;28menumerate\u001b[39m(\u001b[43mcv\u001b[49m\u001b[38;5;241;43m.\u001b[39;49m\u001b[43msplit\u001b[49m(X_train_scaled, y_train)):\n\u001b[1;32m     20\u001b[0m     \u001b[38;5;28;01mif\u001b[39;00m fold \u001b[38;5;241m==\u001b[39m \u001b[38;5;241m0\u001b[39m:  \u001b[38;5;66;03m# Only get the first fold\u001b[39;00m\n\u001b[1;32m     21\u001b[0m         train_indices, test_indices \u001b[38;5;241m=\u001b[39m train_idx, test_idx\n",
      "\u001b[0;31mAttributeError\u001b[0m: 'int' object has no attribute 'split'"
     ]
    }
   ],
   "source": [
    "import numpy as np\n",
    "import pandas as pd\n",
    "from sklearn.metrics import confusion_matrix\n",
    "\n",
    "# Assuming 'texts' is a list of the original text data corresponding to your input features\n",
    "texts = [...]  # Replace with your actual text data corresponding to X_train_scaled\n",
    "\n",
    "# Get the best estimator from GridSearchCV\n",
    "best_svc = grid_search.best_estimator_\n",
    "\n",
    "# Retrieve the CV splitter used in GridSearchCV\n",
    "cv = grid_search.cv  # Access the CV splitter\n",
    "\n",
    "# Initialize lists to hold the train/test indices\n",
    "train_indices = []\n",
    "test_indices = []\n",
    "\n",
    "# Get the indices for the first fold\n",
    "for fold, (train_idx, test_idx) in enumerate(cv.split(X_train_scaled, y_train)):\n",
    "    if fold == 0:  # Only get the first fold\n",
    "        train_indices, test_indices = train_idx, test_idx\n",
    "        break\n",
    "\n",
    "# Extract the test data and labels for this fold\n",
    "X_test_fold = X_train_scaled[test_indices]\n",
    "y_test_fold = y_train[test_indices]\n",
    "texts_test_fold = [texts[i] for i in test_indices]  # Corresponding text data\n",
    "\n",
    "# Make predictions on the test fold\n",
    "y_pred = best_svc.predict(X_test_fold)\n",
    "\n",
    "# Identify false positives and false negatives\n",
    "false_positives = []\n",
    "false_negatives = []\n",
    "\n",
    "for i in range(len(y_test_fold)):\n",
    "    if y_pred[i] == 1 and y_test_fold[i] == 0:  # False Positive\n",
    "        false_positives.append((texts_test_fold[i], y_pred[i], y_test_fold[i]))\n",
    "    elif y_pred[i] == 0 and y_test_fold[i] == 1:  # False Negative\n",
    "        false_negatives.append((texts_test_fold[i], y_pred[i], y_test_fold[i]))\n",
    "\n",
    "# Display 10 examples of false positives and false negatives\n",
    "print(\"False Positives:\")\n",
    "for text, pred, actual in false_positives[:10]:\n",
    "    print(f\"Predicted: {pred}, Actual: {actual}, Text: {text}\")\n",
    "\n",
    "print(\"\\nFalse Negatives:\")\n",
    "for text, pred, actual in false_negatives[:10]:\n",
    "    print(f\"Predicted: {pred}, Actual: {actual}, Text: {text}\")\n"
   ]
  },
  {
   "cell_type": "code",
   "execution_count": 39,
   "metadata": {},
   "outputs": [
    {
     "name": "stdout",
     "output_type": "stream",
     "text": [
      "Predicted probabilities saved to /Users/manuelpena/Documents/Tufts/fifth_semester/cs135-24f-assignments/projectA/data_reviews/yproba1_test.txt\n"
     ]
    }
   ],
   "source": [
    "# Save predictions to a text file (y_proba1_test.txt)\n",
    "output_file = os.path.join(save_dir, 'yproba1_test.txt')\n",
    "np.savetxt(output_file, y_pred_prob_test, fmt='%.6f')\n",
    "\n",
    "print(f'Predicted probabilities saved to {output_file}')"
   ]
  }
 ],
 "metadata": {
  "kernelspec": {
   "display_name": "Python 3",
   "language": "python",
   "name": "python3"
  },
  "language_info": {
   "codemirror_mode": {
    "name": "ipython",
    "version": 3
   },
   "file_extension": ".py",
   "mimetype": "text/x-python",
   "name": "python",
   "nbconvert_exporter": "python",
   "pygments_lexer": "ipython3",
   "version": "3.10.14"
  }
 },
 "nbformat": 4,
 "nbformat_minor": 4
}
