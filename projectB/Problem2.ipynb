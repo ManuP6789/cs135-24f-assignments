{
 "cells": [
  {
   "cell_type": "code",
   "execution_count": null,
   "metadata": {},
   "outputs": [
    {
     "ename": "SyntaxError",
     "evalue": "invalid syntax (1066692878.py, line 8)",
     "output_type": "error",
     "traceback": [
      "\u001b[0;36m  Cell \u001b[0;32mIn[18], line 8\u001b[0;36m\u001b[0m\n\u001b[0;31m    import read_svd_vectorom surprise .p\u001b[0m\n\u001b[0m                             ^\u001b[0m\n\u001b[0;31mSyntaxError\u001b[0m\u001b[0;31m:\u001b[0m invalid syntax\n"
     ]
    }
   ],
   "source": [
    "import pandas as pd\n",
    "import numpy as np\n",
    "from surprise import SVD\n",
    "from surprise import Dataset, Reader, accuracy\n",
    "from surprise.model_selection import cross_validate\n",
    "import matplotlib.pyplot as plt\n",
    "\n",
    "\n",
    "import read_svd_vectorom surprise .p"
   ]
  },
  {
   "cell_type": "markdown",
   "metadata": {},
   "source": []
  },
  {
   "cell_type": "code",
   "execution_count": null,
   "metadata": {},
   "outputs": [
    {
     "name": "stdout",
     "output_type": "stream",
     "text": [
      "<surprise.trainset.Trainset object at 0x1378bb9a0>\n"
     ]
    }
   ],
   "source": [
    "\n",
    "reader = Reader(\n",
    "    line_format='user item rating', sep=',',\n",
    "    rating_scale=(1, 5), skip_lines=1)\n",
    "\n",
    "## Load the entire dev set in surprise's format\n",
    "train_set = Dataset.load_from_file(\n",
    "    'data_movie_lens_100k/ratings_all_development_set.csv', reader=reader)\n",
    "train_set = train_set.build_full_trainset()\n",
    "\n",
    "# Use the SVD algorithm\n",
    "for n_factors in [1, 5, 10, 50, 100, 150, 200, 300]:\n",
    "    ## Fit model like in problem 1\n",
    "    model = SVD(n_factors=n_factors)\n",
    "    model.fit(train_set)\n",
    "\n",
    "    print(\"global mean:\")\n",
    "    print(model.trainset.global_mean)\n",
    "    print(\"shape of bias_per_item: \")\n",
    "    print(model.bi.shape)\n",
    "    print(\"shape of bias_per_user: \")\n",
    "    print(model.bu.shape)\n",
    "    print(\"shape of U (per user vectors): \")\n",
    "    print(model.pu.shape)\n",
    "    print(\"shape of V (per item vectors): \")\n",
    "    print(model.qi.shape)\n",
    "\n",
    "# cross_validate(SVD(), train_set, measures=['RMSE', 'MAE'], cv=5, verbose=True)\n",
    "\n"
   ]
  },
  {
   "cell_type": "code",
   "execution_count": 21,
   "metadata": {},
   "outputs": [],
   "source": [
    "def tuple_to_surprise_dataset(tupl):\n",
    "    \"\"\"\n",
    "    This function convert a subset in the tuple form to a `surprise` dataset. \n",
    "    \"\"\"\n",
    "    ratings_dict = {\n",
    "        \"userID\": tupl[0],\n",
    "        \"itemID\": tupl[1],\n",
    "        \"rating\": tupl[2],\n",
    "    }\n",
    "\n",
    "    df = pd.DataFrame(ratings_dict)\n",
    "\n",
    "    # A reader is still needed but only the rating_scale param is requiered.\n",
    "    reader = Reader(rating_scale=(1, 5))\n",
    "\n",
    "    # The columns must correspond to user id, item id and ratings (in that order).\n",
    "    dataset = Dataset.load_from_df(df[[\"userID\", \"itemID\", \"rating\"]], reader)\n",
    "\n",
    "    return dataset\n",
    "\n"
   ]
  },
  {
   "cell_type": "code",
   "execution_count": 19,
   "metadata": {},
   "outputs": [],
   "source": [
    "from train_valid_test_loader import load_train_valid_test_datasets\n",
    "\n",
    "# Load the dataset in the same way as the main problem \n",
    "train_tuple, valid_tuple, test_tuple, n_users, n_items = \\\n",
    "        load_train_valid_test_datasets()"
   ]
  },
  {
   "cell_type": "code",
   "execution_count": 26,
   "metadata": {},
   "outputs": [],
   "source": [
    "# train an SVD model using the training set\n",
    "trainset = tuple_to_surprise_dataset(train_tuple).build_full_trainset()\n",
    "algo = SVD()\n",
    "algo.fit(trainset)\n",
    "\n",
    "# Use an example to show to to slice out user and item vectors learned by the SVD \n",
    "uid = valid_tuple[0][0]\n",
    "iid = valid_tuple[1][0]\n",
    "rui = valid_tuple[2][0]\n",
    "\n",
    "predictions = algo.predict(uid, iid, r_ui=rui)\n",
    "\n",
    "# print(train_set)"
   ]
  },
  {
   "cell_type": "code",
   "execution_count": 27,
   "metadata": {},
   "outputs": [
    {
     "name": "stdout",
     "output_type": "stream",
     "text": [
      "My prediction: 2.9171154344535273, SVD's prediction: 2.9171154344535273, difference: 0.0\n"
     ]
    }
   ],
   "source": [
    "# Get model parameters\n",
    "# NOTE: the SVD model has its own index system because the storage using raw user and item ids\n",
    "# is not efficient. We need to convert raw ids to internal ids. Please read the few lines below\n",
    "# carefully \n",
    "\n",
    "mu = algo.trainset.global_mean # SVD does not even fit mu -- it directly use the rating mean \n",
    "bu = algo.bu[trainset.to_inner_uid(uid)]\n",
    "bi = algo.bi[trainset.to_inner_iid(iid)] \n",
    "pu = algo.pu[trainset.to_inner_uid(uid)] \n",
    "qi = algo.qi[trainset.to_inner_iid(iid)]\n",
    "\n",
    "# Sanity check: we compute our own prediction and compare it against the model's prediction \n",
    "# our prediction\n",
    "my_est = mu + bu + bi + np.dot(pu, qi) \n",
    "\n",
    "# the model's prediction\n",
    "# NOTE: the training of the SVD model is random, so the prediction can be different with \n",
    "# different runs -- this is normal.   \n",
    "svd_pred = algo.predict(uid, iid, r_ui=rui)\n",
    "\n",
    "# The two predictions should be the same\n",
    "print(\"My prediction: \" + str(my_est) + \", SVD's prediction: \" + str(svd_pred.est) + \", difference: \" + str(np.abs(my_est - svd_pred.est)))\n",
    "\n",
    "assert(np.abs(my_est - svd_pred.est) < 1e-6)\n"
   ]
  }
 ],
 "metadata": {
  "kernelspec": {
   "display_name": "cs135_env",
   "language": "python",
   "name": "python3"
  },
  "language_info": {
   "codemirror_mode": {
    "name": "ipython",
    "version": 3
   },
   "file_extension": ".py",
   "mimetype": "text/x-python",
   "name": "python",
   "nbconvert_exporter": "python",
   "pygments_lexer": "ipython3",
   "version": "3.10.14"
  }
 },
 "nbformat": 4,
 "nbformat_minor": 2
}
