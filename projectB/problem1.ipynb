{
 "cells": [
  {
   "cell_type": "code",
   "execution_count": 1,
   "metadata": {},
   "outputs": [],
   "source": [
    "import numpy as np\n",
    "import pandas as pd\n",
    "import os\n",
    "import sys\n",
    "import time\n",
    "import importlib\n",
    "import autograd.numpy as ag_np\n",
    "import autograd\n",
    "import itertools\n",
    "from train_valid_test_loader import load_train_valid_test_datasets\n",
    "from AbstractBaseCollabFilterSGD import AbstractBaseCollabFilterSGD\n",
    "from CollabFilterOneVectorPerItem import CollabFilterOneVectorPerItem\n"
   ]
  },
  {
   "cell_type": "code",
   "execution_count": 2,
   "metadata": {},
   "outputs": [],
   "source": [
    "import sklearn.linear_model\n",
    "import sklearn.pipeline\n",
    "import sklearn.metrics\n",
    "from sklearn.model_selection import GridSearchCV\n"
   ]
  },
  {
   "cell_type": "code",
   "execution_count": 3,
   "metadata": {},
   "outputs": [],
   "source": [
    "# Plotting utils\n",
    "import matplotlib\n",
    "import matplotlib.pyplot as plt\n",
    "\n",
    "plt.style.use('seaborn-v0_8') # pretty matplotlib plots\n",
    "\n",
    "import seaborn as sns\n",
    "sns.set('notebook', font_scale=1.25, style='whitegrid')"
   ]
  },
  {
   "cell_type": "code",
   "execution_count": 2,
   "metadata": {},
   "outputs": [],
   "source": [
    "train_data_tuple, valid_data_tuple, test_data_tuple, total_n_users, total_n_items = load_train_valid_test_datasets()\n"
   ]
  },
  {
   "cell_type": "code",
   "execution_count": 3,
   "metadata": {},
   "outputs": [
    {
     "name": "stdout",
     "output_type": "stream",
     "text": [
      "epoch       0.000 | loss_total     0.00016 | train_MAE     1.00317 | valid_MAE     1.00857 | grad_wrt_mu     0.00011 | grad_wrt_b_per_user     0.00114 | grad_wrt_c_per_item     0.00064 | grad_wrt_U     0.00001 | grad_wrt_V     0.00000\n",
      "epoch       0.143 | loss_total     0.00016 | train_MAE     1.00285 | valid_MAE     1.00824 | grad_wrt_mu     0.00010 | grad_wrt_b_per_user     0.00111 | grad_wrt_c_per_item     0.00062 | grad_wrt_U     0.00001 | grad_wrt_V     0.00000\n",
      "epoch       0.286 | loss_total     0.00015 | train_MAE     1.00271 | valid_MAE     1.00809 | grad_wrt_mu     0.00011 | grad_wrt_b_per_user     0.00113 | grad_wrt_c_per_item     0.00063 | grad_wrt_U     0.00001 | grad_wrt_V     0.00000\n",
      "epoch       0.429 | loss_total     0.00015 | train_MAE     1.00264 | valid_MAE     1.00801 | grad_wrt_mu     0.00010 | grad_wrt_b_per_user     0.00110 | grad_wrt_c_per_item     0.00062 | grad_wrt_U     0.00001 | grad_wrt_V     0.00000\n",
      "epoch       0.571 | loss_total     0.00016 | train_MAE     1.00260 | valid_MAE     1.00796 | grad_wrt_mu     0.00011 | grad_wrt_b_per_user     0.00114 | grad_wrt_c_per_item     0.00064 | grad_wrt_U     0.00001 | grad_wrt_V     0.00000\n",
      "epoch       0.714 | loss_total     0.00015 | train_MAE     1.00256 | valid_MAE     1.00791 | grad_wrt_mu     0.00011 | grad_wrt_b_per_user     0.00112 | grad_wrt_c_per_item     0.00063 | grad_wrt_U     0.00001 | grad_wrt_V     0.00000\n",
      "epoch       0.857 | loss_total     0.00015 | train_MAE     1.00253 | valid_MAE     1.00787 | grad_wrt_mu     0.00011 | grad_wrt_b_per_user     0.00112 | grad_wrt_c_per_item     0.00063 | grad_wrt_U     0.00001 | grad_wrt_V     0.00000\n",
      "epoch       1.000 | loss_total     0.00016 | train_MAE     1.00250 | valid_MAE     1.00783 | grad_wrt_mu     0.00011 | grad_wrt_b_per_user     0.00115 | grad_wrt_c_per_item     0.00064 | grad_wrt_U     0.00001 | grad_wrt_V     0.00000\n",
      "epoch       1.143 | loss_total     0.00015 | train_MAE     1.00246 | valid_MAE     1.00779 | grad_wrt_mu     0.00011 | grad_wrt_b_per_user     0.00112 | grad_wrt_c_per_item     0.00063 | grad_wrt_U     0.00001 | grad_wrt_V     0.00000\n",
      "epoch       1.286 | loss_total     0.00015 | train_MAE     1.00243 | valid_MAE     1.00775 | grad_wrt_mu     0.00010 | grad_wrt_b_per_user     0.00107 | grad_wrt_c_per_item     0.00060 | grad_wrt_U     0.00001 | grad_wrt_V     0.00000\n",
      "epoch       1.429 | loss_total     0.00015 | train_MAE     1.00240 | valid_MAE     1.00771 | grad_wrt_mu     0.00010 | grad_wrt_b_per_user     0.00109 | grad_wrt_c_per_item     0.00061 | grad_wrt_U     0.00001 | grad_wrt_V     0.00000\n",
      "epoch       1.571 | loss_total     0.00016 | train_MAE     1.00237 | valid_MAE     1.00767 | grad_wrt_mu     0.00011 | grad_wrt_b_per_user     0.00120 | grad_wrt_c_per_item     0.00067 | grad_wrt_U     0.00001 | grad_wrt_V     0.00000\n",
      "epoch       1.714 | loss_total     0.00015 | train_MAE     1.00234 | valid_MAE     1.00763 | grad_wrt_mu     0.00010 | grad_wrt_b_per_user     0.00110 | grad_wrt_c_per_item     0.00061 | grad_wrt_U     0.00001 | grad_wrt_V     0.00000\n",
      "epoch       1.857 | loss_total     0.00015 | train_MAE     1.00231 | valid_MAE     1.00759 | grad_wrt_mu     0.00010 | grad_wrt_b_per_user     0.00109 | grad_wrt_c_per_item     0.00061 | grad_wrt_U     0.00001 | grad_wrt_V     0.00000\n",
      "epoch       2.000 | loss_total     0.00015 | train_MAE     1.00228 | valid_MAE     1.00756 | grad_wrt_mu     0.00010 | grad_wrt_b_per_user     0.00106 | grad_wrt_c_per_item     0.00059 | grad_wrt_U     0.00001 | grad_wrt_V     0.00000\n",
      "epoch       2.571 | loss_total     0.00015 | train_MAE     1.00216 | valid_MAE     1.00740 | grad_wrt_mu     0.00011 | grad_wrt_b_per_user     0.00112 | grad_wrt_c_per_item     0.00063 | grad_wrt_U     0.00001 | grad_wrt_V     0.00000\n",
      "epoch       3.000 | loss_total     0.00015 | train_MAE     1.00207 | valid_MAE     1.00728 | grad_wrt_mu     0.00010 | grad_wrt_b_per_user     0.00110 | grad_wrt_c_per_item     0.00062 | grad_wrt_U     0.00001 | grad_wrt_V     0.00000\n",
      "epoch       3.571 | loss_total     0.00015 | train_MAE     1.00195 | valid_MAE     1.00712 | grad_wrt_mu     0.00010 | grad_wrt_b_per_user     0.00110 | grad_wrt_c_per_item     0.00062 | grad_wrt_U     0.00001 | grad_wrt_V     0.00000\n",
      "epoch       4.000 | loss_total     0.00015 | train_MAE     1.00186 | valid_MAE     1.00700 | grad_wrt_mu     0.00010 | grad_wrt_b_per_user     0.00108 | grad_wrt_c_per_item     0.00060 | grad_wrt_U     0.00001 | grad_wrt_V     0.00000\n",
      "epoch       4.571 | loss_total     0.00015 | train_MAE     1.00173 | valid_MAE     1.00684 | grad_wrt_mu     0.00010 | grad_wrt_b_per_user     0.00108 | grad_wrt_c_per_item     0.00061 | grad_wrt_U     0.00001 | grad_wrt_V     0.00000\n",
      "epoch       5.000 | loss_total     0.00015 | train_MAE     1.00163 | valid_MAE     1.00672 | grad_wrt_mu     0.00010 | grad_wrt_b_per_user     0.00105 | grad_wrt_c_per_item     0.00059 | grad_wrt_U     0.00001 | grad_wrt_V     0.00000\n",
      "epoch       5.571 | loss_total     0.00015 | train_MAE     1.00150 | valid_MAE     1.00655 | grad_wrt_mu     0.00011 | grad_wrt_b_per_user     0.00112 | grad_wrt_c_per_item     0.00063 | grad_wrt_U     0.00001 | grad_wrt_V     0.00000\n",
      "epoch       6.000 | loss_total     0.00015 | train_MAE     1.00140 | valid_MAE     1.00642 | grad_wrt_mu     0.00010 | grad_wrt_b_per_user     0.00107 | grad_wrt_c_per_item     0.00060 | grad_wrt_U     0.00001 | grad_wrt_V     0.00000\n",
      "epoch       6.571 | loss_total     0.00015 | train_MAE     1.00126 | valid_MAE     1.00624 | grad_wrt_mu     0.00010 | grad_wrt_b_per_user     0.00105 | grad_wrt_c_per_item     0.00059 | grad_wrt_U     0.00001 | grad_wrt_V     0.00000\n",
      "epoch       7.000 | loss_total     0.00015 | train_MAE     1.00116 | valid_MAE     1.00611 | grad_wrt_mu     0.00010 | grad_wrt_b_per_user     0.00111 | grad_wrt_c_per_item     0.00062 | grad_wrt_U     0.00001 | grad_wrt_V     0.00000\n",
      "epoch       7.571 | loss_total     0.00015 | train_MAE     1.00101 | valid_MAE     1.00593 | grad_wrt_mu     0.00010 | grad_wrt_b_per_user     0.00104 | grad_wrt_c_per_item     0.00058 | grad_wrt_U     0.00001 | grad_wrt_V     0.00000\n",
      "epoch       8.000 | loss_total     0.00015 | train_MAE     1.00090 | valid_MAE     1.00579 | grad_wrt_mu     0.00010 | grad_wrt_b_per_user     0.00109 | grad_wrt_c_per_item     0.00061 | grad_wrt_U     0.00001 | grad_wrt_V     0.00000\n",
      "epoch       9.000 | loss_total     0.00015 | train_MAE     1.00062 | valid_MAE     1.00544 | grad_wrt_mu     0.00010 | grad_wrt_b_per_user     0.00107 | grad_wrt_c_per_item     0.00060 | grad_wrt_U     0.00001 | grad_wrt_V     0.00000\n",
      "epoch       9.857 | loss_total     0.00015 | train_MAE     1.00036 | valid_MAE     1.00512 | grad_wrt_mu     0.00010 | grad_wrt_b_per_user     0.00106 | grad_wrt_c_per_item     0.00059 | grad_wrt_U     0.00001 | grad_wrt_V     0.00000\n"
     ]
    }
   ],
   "source": [
    "model = CollabFilterOneVectorPerItem(n_epochs=10, batch_size=10000, step_size=0.1,n_factors=2, alpha=0.0)\n",
    "model.init_parameter_dict(total_n_users, total_n_items, train_data_tuple)\n",
    "model.fit(train_data_tuple, valid_data_tuple)\n"
   ]
  },
  {
   "cell_type": "code",
   "execution_count": null,
   "metadata": {},
   "outputs": [],
   "source": []
  },
  {
   "cell_type": "markdown",
   "metadata": {},
   "source": []
  }
 ],
 "metadata": {
  "kernelspec": {
   "display_name": "cs135_env",
   "language": "python",
   "name": "python3"
  },
  "language_info": {
   "codemirror_mode": {
    "name": "ipython",
    "version": 3
   },
   "file_extension": ".py",
   "mimetype": "text/x-python",
   "name": "python",
   "nbconvert_exporter": "python",
   "pygments_lexer": "ipython3",
   "version": "3.10.14"
  }
 },
 "nbformat": 4,
 "nbformat_minor": 2
}
